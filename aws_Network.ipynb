{
 "cells": [
  {
   "cell_type": "code",
   "execution_count": 8,
   "id": "f38aa9f8-b69c-4c46-b247-0e8831b1a8d7",
   "metadata": {},
   "outputs": [],
   "source": [
    "import numpy as np\n",
    "import pandas as pd\n",
    "import matplotlib.pyplot as plt\n",
    "from pandas.api.types import is_numeric_dtype\n",
    "\n",
    "import boto3\n",
    "import logging\n",
    "import os\n",
    "import argparse\n",
    "import json\n",
    "import sagemaker\n",
    "from sagemaker.sklearn import SKLearn\n",
    "from sagemaker import Session\n",
    "from sagemaker.estimator import Estimator\n",
    "from sagemaker.inputs import TrainingInput\n",
    "from sagemaker import get_execution_role\n",
    "import yaml\n",
    "from sagemaker.sklearn.estimator import SKLearn\n",
    "from sklearn.model_selection import train_test_split\n",
    "from sklearn.preprocessing import StandardScaler, LabelEncoder\n",
    "from sklearn.feature_selection import RFE\n",
    "from lightgbm import LGBMClassifier\n",
    "import itertools\n",
    "import joblib\n",
    "from tabulate import tabulate\n",
    "from pathlib import Path\n",
    "from timeutils import Stopwatch\n",
    "import tarfile\n",
    "import warnings\n",
    "import optuna\n",
    "warnings.filterwarnings('ignore')\n",
    "optuna.logging.set_verbosity(optuna.logging.WARNING)\n",
    "\n",
    "# Initialize logger\n",
    "logging.basicConfig(level=logging.INFO)\n",
    "logger = logging.getLogger(__name__)"
   ]
  },
  {
   "cell_type": "code",
   "execution_count": 9,
   "id": "abe70a75-a2b8-4a5d-8252-38c50f9a8f89",
   "metadata": {},
   "outputs": [
    {
     "name": "stdout",
     "output_type": "stream",
     "text": [
      "Creating boto session...\n"
     ]
    }
   ],
   "source": [
    "# Function to create a Boto3 session\n",
    "def create_boto_session(aws_access_key_id, aws_secret_access_key):\n",
    "    print('Creating boto session...')\n",
    "    return boto3.Session(\n",
    "        aws_access_key_id=aws_access_key_id,\n",
    "        aws_secret_access_key=aws_secret_access_key,\n",
    "        region_name='us-east-1'  # Replace with your desired AWS region\n",
    "    )\n",
    "\n",
    "# AWS credentials (make sure to handle credentials securely)\n",
    "aws_access_key_id = '...'  # Replace with your actual AWS access key\n",
    "aws_secret_access_key = '...'  # Replace with your actual AWS secret key\n",
    "\n",
    "# Create boto session\n",
    "boto_session = create_boto_session(aws_access_key_id, aws_secret_access_key)\n",
    "\n",
    "# Initialize SageMaker session\n",
    "sagemaker_session = sagemaker.Session(boto_session=boto_session)\n",
    "\n",
    "# IAM role ARN\n",
    "role = 'arn:aws:iam::730335322557:role/SagemakerRoleNet1'  # Replace with your actual SageMaker role ARN\n",
    "\n",
    "# S3 paths for input and output data\n",
    "bucket = 'datasetscybersec'\n",
    "s3_input_train = \"s3://{}/NID/Train_data.csv\".format(bucket)  # Ensure you have the full path to the training data\n",
    "s3_input_test = \"s3://{}/NID/Test_data.csv\".format(bucket)   # Ensure you have the full path to the testing data\n",
    "#output_path = \"s3://{}/model\".format(bucket)  # Path to store model output\n",
    "prefix = 'model'  # Prefix for model storage in S3\n",
    "code_path = \"s3://{}/{}\".format (bucket, prefix)\n",
    "output_path = \"s3://{}/{}\".format(bucket, prefix)\n",
    "\n",
    "\n",
    "# Define the SKLearn estimator\n",
    "sklearn_estimator = SKLearn(\n",
    "    entry_point='model.py',  # The script to be executed\n",
    "    source_dir='.',  # If your script is in the current directory\n",
    "    role=role,\n",
    "    instance_type='ml.m5.large',  # Instance type\n",
    "    instance_count=1,\n",
    "    base_job_name='sk-network',\n",
    "    framework_version='1.2-1',  # Replace with your sklearn version\n",
    "    py_version='py3',\n",
    "    script_mode=True,\n",
    "    sagemaker_session=sagemaker_session,\n",
    "    code_location=code_path,\n",
    "    output_path=output_path  # Where the model artifacts will be stored\n",
    ")\n"
   ]
  },
  {
   "cell_type": "code",
   "execution_count": 7,
   "id": "c66f55bf-b80e-49c6-b710-d573a7349d00",
   "metadata": {},
   "outputs": [
    {
     "name": "stdout",
     "output_type": "stream",
     "text": [
      "aaaaaaaaaaaaaaaaaaaaaaaaaaaaaaaaaaaaaaaaa\n"
     ]
    },
    {
     "ename": "KeyboardInterrupt",
     "evalue": "",
     "output_type": "error",
     "traceback": [
      "\u001b[1;31m---------------------------------------------------------------------------\u001b[0m",
      "\u001b[1;31mFileNotFoundError\u001b[0m                         Traceback (most recent call last)",
      "File \u001b[1;32m~\\AppData\\Local\\Programs\\Python\\Python312\\Lib\\pathlib.py:860\u001b[0m, in \u001b[0;36mPath.exists\u001b[1;34m(self, follow_symlinks)\u001b[0m\n\u001b[0;32m    859\u001b[0m \u001b[38;5;28;01mtry\u001b[39;00m:\n\u001b[1;32m--> 860\u001b[0m     \u001b[38;5;28;43mself\u001b[39;49m\u001b[38;5;241;43m.\u001b[39;49m\u001b[43mstat\u001b[49m\u001b[43m(\u001b[49m\u001b[43mfollow_symlinks\u001b[49m\u001b[38;5;241;43m=\u001b[39;49m\u001b[43mfollow_symlinks\u001b[49m\u001b[43m)\u001b[49m\n\u001b[0;32m    861\u001b[0m \u001b[38;5;28;01mexcept\u001b[39;00m \u001b[38;5;167;01mOSError\u001b[39;00m \u001b[38;5;28;01mas\u001b[39;00m e:\n",
      "File \u001b[1;32m~\\AppData\\Local\\Programs\\Python\\Python312\\Lib\\pathlib.py:840\u001b[0m, in \u001b[0;36mPath.stat\u001b[1;34m(self, follow_symlinks)\u001b[0m\n\u001b[0;32m    836\u001b[0m \u001b[38;5;250m\u001b[39m\u001b[38;5;124;03m\"\"\"\u001b[39;00m\n\u001b[0;32m    837\u001b[0m \u001b[38;5;124;03mReturn the result of the stat() system call on this path, like\u001b[39;00m\n\u001b[0;32m    838\u001b[0m \u001b[38;5;124;03mos.stat() does.\u001b[39;00m\n\u001b[0;32m    839\u001b[0m \u001b[38;5;124;03m\"\"\"\u001b[39;00m\n\u001b[1;32m--> 840\u001b[0m \u001b[38;5;28;01mreturn\u001b[39;00m \u001b[43mos\u001b[49m\u001b[38;5;241;43m.\u001b[39;49m\u001b[43mstat\u001b[49m\u001b[43m(\u001b[49m\u001b[38;5;28;43mself\u001b[39;49m\u001b[43m,\u001b[49m\u001b[43m \u001b[49m\u001b[43mfollow_symlinks\u001b[49m\u001b[38;5;241;43m=\u001b[39;49m\u001b[43mfollow_symlinks\u001b[49m\u001b[43m)\u001b[49m\n",
      "\u001b[1;31mFileNotFoundError\u001b[0m: [WinError 2] The system cannot find the file specified: 'D:\\\\.sagemaker-code-config'",
      "\nDuring handling of the above exception, another exception occurred:\n",
      "\u001b[1;31mKeyboardInterrupt\u001b[0m                         Traceback (most recent call last)",
      "Cell \u001b[1;32mIn[7], line 11\u001b[0m\n\u001b[0;32m      5\u001b[0m \u001b[38;5;66;03m# Run the training job\u001b[39;00m\n\u001b[0;32m      6\u001b[0m \u001b[38;5;66;03m# sklearn_estimator.fit({'train': train_input, 'test': test_input}, job_name='sk-network')\u001b[39;00m\n\u001b[0;32m      8\u001b[0m \u001b[38;5;28mprint\u001b[39m(\u001b[38;5;124m\"\u001b[39m\u001b[38;5;124maaaaaaaaaaaaaaaaaaaaaaaaaaaaaaaaaaaaaaaaa\u001b[39m\u001b[38;5;124m\"\u001b[39m)\n\u001b[1;32m---> 11\u001b[0m \u001b[43msklearn_estimator\u001b[49m\u001b[38;5;241;43m.\u001b[39;49m\u001b[43mfit\u001b[49m\u001b[43m(\u001b[49m\u001b[43m{\u001b[49m\u001b[38;5;124;43m'\u001b[39;49m\u001b[38;5;124;43mtrain\u001b[39;49m\u001b[38;5;124;43m'\u001b[39;49m\u001b[43m:\u001b[49m\u001b[43m \u001b[49m\u001b[43mtrain_input\u001b[49m\u001b[43m,\u001b[49m\u001b[43m \u001b[49m\u001b[38;5;124;43m'\u001b[39;49m\u001b[38;5;124;43mtest\u001b[39;49m\u001b[38;5;124;43m'\u001b[39;49m\u001b[43m:\u001b[49m\u001b[43m \u001b[49m\u001b[43mtest_input\u001b[49m\u001b[43m}\u001b[49m\u001b[43m,\u001b[49m\u001b[43m \u001b[49m\u001b[43mjob_name\u001b[49m\u001b[38;5;241;43m=\u001b[39;49m\u001b[38;5;124;43m'\u001b[39;49m\u001b[38;5;124;43msk-network1\u001b[39;49m\u001b[38;5;124;43m'\u001b[39;49m\u001b[43m,\u001b[49m\u001b[43m \u001b[49m\u001b[43mwait\u001b[49m\u001b[38;5;241;43m=\u001b[39;49m\u001b[38;5;28;43;01mTrue\u001b[39;49;00m\u001b[43m,\u001b[49m\u001b[43m \u001b[49m\u001b[43mlogs\u001b[49m\u001b[38;5;241;43m=\u001b[39;49m\u001b[38;5;28;43;01mTrue\u001b[39;49;00m\u001b[43m)\u001b[49m\n\u001b[0;32m     12\u001b[0m \u001b[38;5;66;03m# Function to stream the logs\u001b[39;00m\n\u001b[0;32m     13\u001b[0m \u001b[38;5;66;03m# def stream_logs(estimator):\u001b[39;00m\n\u001b[0;32m     14\u001b[0m \u001b[38;5;66;03m#     job_name = estimator.latest_training_job.name\u001b[39;00m\n\u001b[1;32m   (...)\u001b[0m\n\u001b[0;32m     25\u001b[0m \u001b[38;5;66;03m# # Stream logs manually\u001b[39;00m\n\u001b[0;32m     26\u001b[0m \u001b[38;5;66;03m# stream_logs(sklearn_estimator)\u001b[39;00m\n",
      "File \u001b[1;32m~\\AppData\\Local\\Programs\\Python\\Python312\\Lib\\site-packages\\sagemaker\\workflow\\pipeline_context.py:346\u001b[0m, in \u001b[0;36mrunnable_by_pipeline.<locals>.wrapper\u001b[1;34m(*args, **kwargs)\u001b[0m\n\u001b[0;32m    342\u001b[0m         \u001b[38;5;28;01mreturn\u001b[39;00m context\n\u001b[0;32m    344\u001b[0m     \u001b[38;5;28;01mreturn\u001b[39;00m _StepArguments(retrieve_caller_name(self_instance), run_func, \u001b[38;5;241m*\u001b[39margs, \u001b[38;5;241m*\u001b[39m\u001b[38;5;241m*\u001b[39mkwargs)\n\u001b[1;32m--> 346\u001b[0m \u001b[38;5;28;01mreturn\u001b[39;00m \u001b[43mrun_func\u001b[49m\u001b[43m(\u001b[49m\u001b[38;5;241;43m*\u001b[39;49m\u001b[43margs\u001b[49m\u001b[43m,\u001b[49m\u001b[43m \u001b[49m\u001b[38;5;241;43m*\u001b[39;49m\u001b[38;5;241;43m*\u001b[39;49m\u001b[43mkwargs\u001b[49m\u001b[43m)\u001b[49m\n",
      "File \u001b[1;32m~\\AppData\\Local\\Programs\\Python\\Python312\\Lib\\site-packages\\sagemaker\\estimator.py:1347\u001b[0m, in \u001b[0;36mEstimatorBase.fit\u001b[1;34m(self, inputs, wait, logs, job_name, experiment_config)\u001b[0m\n\u001b[0;32m   1344\u001b[0m \u001b[38;5;28mself\u001b[39m\u001b[38;5;241m.\u001b[39m_prepare_for_training(job_name\u001b[38;5;241m=\u001b[39mjob_name)\n\u001b[0;32m   1346\u001b[0m experiment_config \u001b[38;5;241m=\u001b[39m check_and_get_run_experiment_config(experiment_config)\n\u001b[1;32m-> 1347\u001b[0m \u001b[38;5;28mself\u001b[39m\u001b[38;5;241m.\u001b[39mlatest_training_job \u001b[38;5;241m=\u001b[39m \u001b[43m_TrainingJob\u001b[49m\u001b[38;5;241;43m.\u001b[39;49m\u001b[43mstart_new\u001b[49m\u001b[43m(\u001b[49m\u001b[38;5;28;43mself\u001b[39;49m\u001b[43m,\u001b[49m\u001b[43m \u001b[49m\u001b[43minputs\u001b[49m\u001b[43m,\u001b[49m\u001b[43m \u001b[49m\u001b[43mexperiment_config\u001b[49m\u001b[43m)\u001b[49m\n\u001b[0;32m   1348\u001b[0m \u001b[38;5;28mself\u001b[39m\u001b[38;5;241m.\u001b[39mjobs\u001b[38;5;241m.\u001b[39mappend(\u001b[38;5;28mself\u001b[39m\u001b[38;5;241m.\u001b[39mlatest_training_job)\n\u001b[0;32m   1349\u001b[0m \u001b[38;5;28;01mif\u001b[39;00m wait:\n",
      "File \u001b[1;32m~\\AppData\\Local\\Programs\\Python\\Python312\\Lib\\site-packages\\sagemaker\\estimator.py:2468\u001b[0m, in \u001b[0;36m_TrainingJob.start_new\u001b[1;34m(cls, estimator, inputs, experiment_config)\u001b[0m\n\u001b[0;32m   2465\u001b[0m train_args \u001b[38;5;241m=\u001b[39m \u001b[38;5;28mcls\u001b[39m\u001b[38;5;241m.\u001b[39m_get_train_args(estimator, inputs, experiment_config)\n\u001b[0;32m   2467\u001b[0m logger\u001b[38;5;241m.\u001b[39mdebug(\u001b[38;5;124m\"\u001b[39m\u001b[38;5;124mTrain args after processing defaults: \u001b[39m\u001b[38;5;132;01m%s\u001b[39;00m\u001b[38;5;124m\"\u001b[39m, train_args)\n\u001b[1;32m-> 2468\u001b[0m \u001b[43mestimator\u001b[49m\u001b[38;5;241;43m.\u001b[39;49m\u001b[43msagemaker_session\u001b[49m\u001b[38;5;241;43m.\u001b[39;49m\u001b[43mtrain\u001b[49m\u001b[43m(\u001b[49m\u001b[38;5;241;43m*\u001b[39;49m\u001b[38;5;241;43m*\u001b[39;49m\u001b[43mtrain_args\u001b[49m\u001b[43m)\u001b[49m\n\u001b[0;32m   2470\u001b[0m \u001b[38;5;28;01mreturn\u001b[39;00m \u001b[38;5;28mcls\u001b[39m(estimator\u001b[38;5;241m.\u001b[39msagemaker_session, estimator\u001b[38;5;241m.\u001b[39m_current_job_name)\n",
      "File \u001b[1;32m~\\AppData\\Local\\Programs\\Python\\Python312\\Lib\\site-packages\\sagemaker\\session.py:954\u001b[0m, in \u001b[0;36mSession.train\u001b[1;34m(self, input_mode, input_config, role, job_name, output_config, resource_config, vpc_config, hyperparameters, stop_condition, tags, metric_definitions, enable_network_isolation, image_uri, training_image_config, infra_check_config, container_entry_point, container_arguments, algorithm_arn, encrypt_inter_container_traffic, use_spot_instances, checkpoint_s3_uri, checkpoint_local_path, experiment_config, debugger_rule_configs, debugger_hook_config, tensorboard_output_config, enable_sagemaker_metrics, profiler_rule_configs, profiler_config, environment, retry_strategy, remote_debug_config, session_chaining_config)\u001b[0m\n\u001b[0;32m    774\u001b[0m \u001b[38;5;28;01mdef\u001b[39;00m \u001b[38;5;21mtrain\u001b[39m(  \u001b[38;5;66;03m# noqa: C901\u001b[39;00m\n\u001b[0;32m    775\u001b[0m     \u001b[38;5;28mself\u001b[39m,\n\u001b[0;32m    776\u001b[0m     input_mode,\n\u001b[1;32m   (...)\u001b[0m\n\u001b[0;32m    808\u001b[0m     session_chaining_config\u001b[38;5;241m=\u001b[39m\u001b[38;5;28;01mNone\u001b[39;00m,\n\u001b[0;32m    809\u001b[0m ):\n\u001b[0;32m    810\u001b[0m \u001b[38;5;250m    \u001b[39m\u001b[38;5;124;03m\"\"\"Create an Amazon SageMaker training job.\u001b[39;00m\n\u001b[0;32m    811\u001b[0m \n\u001b[0;32m    812\u001b[0m \u001b[38;5;124;03m    Args:\u001b[39;00m\n\u001b[1;32m   (...)\u001b[0m\n\u001b[0;32m    952\u001b[0m \u001b[38;5;124;03m        str: ARN of the training job, if it is created.\u001b[39;00m\n\u001b[0;32m    953\u001b[0m \u001b[38;5;124;03m    \"\"\"\u001b[39;00m\n\u001b[1;32m--> 954\u001b[0m     tags \u001b[38;5;241m=\u001b[39m \u001b[43m_append_project_tags\u001b[49m\u001b[43m(\u001b[49m\u001b[43mformat_tags\u001b[49m\u001b[43m(\u001b[49m\u001b[43mtags\u001b[49m\u001b[43m)\u001b[49m\u001b[43m)\u001b[49m\n\u001b[0;32m    955\u001b[0m     tags \u001b[38;5;241m=\u001b[39m \u001b[38;5;28mself\u001b[39m\u001b[38;5;241m.\u001b[39m_append_sagemaker_config_tags(\n\u001b[0;32m    956\u001b[0m         tags, \u001b[38;5;124m\"\u001b[39m\u001b[38;5;132;01m{}\u001b[39;00m\u001b[38;5;124m.\u001b[39m\u001b[38;5;132;01m{}\u001b[39;00m\u001b[38;5;124m.\u001b[39m\u001b[38;5;132;01m{}\u001b[39;00m\u001b[38;5;124m\"\u001b[39m\u001b[38;5;241m.\u001b[39mformat(SAGEMAKER, TRAINING_JOB, TAGS)\n\u001b[0;32m    957\u001b[0m     )\n\u001b[0;32m    959\u001b[0m     _encrypt_inter_container_traffic \u001b[38;5;241m=\u001b[39m resolve_value_from_config(\n\u001b[0;32m    960\u001b[0m         direct_input\u001b[38;5;241m=\u001b[39mencrypt_inter_container_traffic,\n\u001b[0;32m    961\u001b[0m         config_path\u001b[38;5;241m=\u001b[39mTRAINING_JOB_INTER_CONTAINER_ENCRYPTION_PATH,\n\u001b[0;32m    962\u001b[0m         default_value\u001b[38;5;241m=\u001b[39m\u001b[38;5;28;01mFalse\u001b[39;00m,\n\u001b[0;32m    963\u001b[0m         sagemaker_session\u001b[38;5;241m=\u001b[39m\u001b[38;5;28mself\u001b[39m,\n\u001b[0;32m    964\u001b[0m     )\n",
      "File \u001b[1;32m~\\AppData\\Local\\Programs\\Python\\Python312\\Lib\\site-packages\\sagemaker\\_studio.py:36\u001b[0m, in \u001b[0;36m_append_project_tags\u001b[1;34m(tags, working_dir)\u001b[0m\n\u001b[0;32m     26\u001b[0m \u001b[38;5;28;01mdef\u001b[39;00m \u001b[38;5;21m_append_project_tags\u001b[39m(tags\u001b[38;5;241m=\u001b[39m\u001b[38;5;28;01mNone\u001b[39;00m, working_dir\u001b[38;5;241m=\u001b[39m\u001b[38;5;28;01mNone\u001b[39;00m):\n\u001b[0;32m     27\u001b[0m \u001b[38;5;250m    \u001b[39m\u001b[38;5;124;03m\"\"\"Appends the project tag to the list of tags, if it exists.\u001b[39;00m\n\u001b[0;32m     28\u001b[0m \n\u001b[0;32m     29\u001b[0m \u001b[38;5;124;03m    Args:\u001b[39;00m\n\u001b[1;32m   (...)\u001b[0m\n\u001b[0;32m     34\u001b[0m \u001b[38;5;124;03m        A possibly extended list of tags that includes the project id.\u001b[39;00m\n\u001b[0;32m     35\u001b[0m \u001b[38;5;124;03m    \"\"\"\u001b[39;00m\n\u001b[1;32m---> 36\u001b[0m     path \u001b[38;5;241m=\u001b[39m \u001b[43m_find_config\u001b[49m\u001b[43m(\u001b[49m\u001b[43mworking_dir\u001b[49m\u001b[43m)\u001b[49m\n\u001b[0;32m     37\u001b[0m     \u001b[38;5;28;01mif\u001b[39;00m path \u001b[38;5;129;01mis\u001b[39;00m \u001b[38;5;28;01mNone\u001b[39;00m:\n\u001b[0;32m     38\u001b[0m         \u001b[38;5;28;01mreturn\u001b[39;00m tags\n",
      "File \u001b[1;32m~\\AppData\\Local\\Programs\\Python\\Python312\\Lib\\site-packages\\sagemaker\\_studio.py:70\u001b[0m, in \u001b[0;36m_find_config\u001b[1;34m(working_dir)\u001b[0m\n\u001b[0;32m     68\u001b[0m \u001b[38;5;28;01mwhile\u001b[39;00m path \u001b[38;5;129;01mis\u001b[39;00m \u001b[38;5;28;01mNone\u001b[39;00m \u001b[38;5;129;01mand\u001b[39;00m \u001b[38;5;129;01mnot\u001b[39;00m wd\u001b[38;5;241m.\u001b[39mmatch(\u001b[38;5;124m\"\u001b[39m\u001b[38;5;124m/\u001b[39m\u001b[38;5;124m\"\u001b[39m):\n\u001b[0;32m     69\u001b[0m     candidate \u001b[38;5;241m=\u001b[39m wd \u001b[38;5;241m/\u001b[39m STUDIO_PROJECT_CONFIG\n\u001b[1;32m---> 70\u001b[0m     \u001b[38;5;28;01mif\u001b[39;00m \u001b[43mPath\u001b[49m\u001b[38;5;241;43m.\u001b[39;49m\u001b[43mexists\u001b[49m\u001b[43m(\u001b[49m\u001b[43mcandidate\u001b[49m\u001b[43m)\u001b[49m:\n\u001b[0;32m     71\u001b[0m         path \u001b[38;5;241m=\u001b[39m candidate\n\u001b[0;32m     72\u001b[0m     wd \u001b[38;5;241m=\u001b[39m wd\u001b[38;5;241m.\u001b[39mparent\n",
      "File \u001b[1;32m~\\AppData\\Local\\Programs\\Python\\Python312\\Lib\\pathlib.py:862\u001b[0m, in \u001b[0;36mPath.exists\u001b[1;34m(self, follow_symlinks)\u001b[0m\n\u001b[0;32m    860\u001b[0m     \u001b[38;5;28mself\u001b[39m\u001b[38;5;241m.\u001b[39mstat(follow_symlinks\u001b[38;5;241m=\u001b[39mfollow_symlinks)\n\u001b[0;32m    861\u001b[0m \u001b[38;5;28;01mexcept\u001b[39;00m \u001b[38;5;167;01mOSError\u001b[39;00m \u001b[38;5;28;01mas\u001b[39;00m e:\n\u001b[1;32m--> 862\u001b[0m     \u001b[38;5;28;01mif\u001b[39;00m \u001b[38;5;129;01mnot\u001b[39;00m \u001b[43m_ignore_error\u001b[49m\u001b[43m(\u001b[49m\u001b[43me\u001b[49m\u001b[43m)\u001b[49m:\n\u001b[0;32m    863\u001b[0m         \u001b[38;5;28;01mraise\u001b[39;00m\n\u001b[0;32m    864\u001b[0m     \u001b[38;5;28;01mreturn\u001b[39;00m \u001b[38;5;28;01mFalse\u001b[39;00m\n",
      "File \u001b[1;32m~\\AppData\\Local\\Programs\\Python\\Python312\\Lib\\pathlib.py:52\u001b[0m, in \u001b[0;36m_ignore_error\u001b[1;34m(exception)\u001b[0m\n\u001b[0;32m     45\u001b[0m _IGNORED_ERRNOS \u001b[38;5;241m=\u001b[39m (ENOENT, ENOTDIR, EBADF, ELOOP)\n\u001b[0;32m     47\u001b[0m _IGNORED_WINERRORS \u001b[38;5;241m=\u001b[39m (\n\u001b[0;32m     48\u001b[0m     _WINERROR_NOT_READY,\n\u001b[0;32m     49\u001b[0m     _WINERROR_INVALID_NAME,\n\u001b[0;32m     50\u001b[0m     _WINERROR_CANT_RESOLVE_FILENAME)\n\u001b[1;32m---> 52\u001b[0m \u001b[38;5;28;01mdef\u001b[39;00m \u001b[38;5;21m_ignore_error\u001b[39m(exception):\n\u001b[0;32m     53\u001b[0m     \u001b[38;5;28;01mreturn\u001b[39;00m (\u001b[38;5;28mgetattr\u001b[39m(exception, \u001b[38;5;124m'\u001b[39m\u001b[38;5;124merrno\u001b[39m\u001b[38;5;124m'\u001b[39m, \u001b[38;5;28;01mNone\u001b[39;00m) \u001b[38;5;129;01min\u001b[39;00m _IGNORED_ERRNOS \u001b[38;5;129;01mor\u001b[39;00m\n\u001b[0;32m     54\u001b[0m             \u001b[38;5;28mgetattr\u001b[39m(exception, \u001b[38;5;124m'\u001b[39m\u001b[38;5;124mwinerror\u001b[39m\u001b[38;5;124m'\u001b[39m, \u001b[38;5;28;01mNone\u001b[39;00m) \u001b[38;5;129;01min\u001b[39;00m _IGNORED_WINERRORS)\n\u001b[0;32m     57\u001b[0m \u001b[38;5;129m@functools\u001b[39m\u001b[38;5;241m.\u001b[39mcache\n\u001b[0;32m     58\u001b[0m \u001b[38;5;28;01mdef\u001b[39;00m \u001b[38;5;21m_is_case_sensitive\u001b[39m(flavour):\n",
      "\u001b[1;31mKeyboardInterrupt\u001b[0m: "
     ]
    }
   ],
   "source": [
    "# Define input channels for training and testing data\n",
    "train_input = sagemaker.inputs.TrainingInput(s3_data=s3_input_train, content_type='text/csv')\n",
    "test_input = sagemaker.inputs.TrainingInput(s3_data=s3_input_test, content_type='text/csv')\n",
    "\n",
    "# Run the training job\n",
    "# sklearn_estimator.fit({'train': train_input, 'test': test_input}, job_name='sk-network')\n",
    "\n",
    "\n",
    "# Start the training job\n",
    "#sklearn_estimator.fit({'train': 's3://testasdfasdfasdfadsfa/abc/'})\n",
    "\n",
    "sklearn_estimator.fit({'train': train_input, 'test': test_input}, job_name='sk-network1', wait=True, logs=True)\n",
    "\n",
    "\n",
    "\n",
    "# Function to stream the logs\n",
    "# def stream_logs(estimator):\n",
    "#     job_name = estimator.latest_training_job.name\n",
    "#     sagemaker.logs.Logs().show_logs(job_name=job_name, wait=True)\n",
    "\n",
    "# # Start the training job\n",
    "# sklearn_estimator.fit(\n",
    "#     {'train': train_input, 'test': test_input}, \n",
    "#     job_name='sk-network', \n",
    "#     wait=False,  # Start job without waiting\n",
    "#     logs=False   # Disable built-in log streaming\n",
    "# )\n",
    "\n",
    "# # Stream logs manually\n",
    "# stream_logs(sklearn_estimator)"
   ]
  },
  {
   "cell_type": "code",
   "execution_count": null,
   "id": "39808703-674b-44d9-9088-151d85397da7",
   "metadata": {},
   "outputs": [],
   "source": [
    "import sagemaker\n",
    "from sagemaker import get_execution_role\n",
    "\n",
    "# Initialize the SageMaker session\n",
    "sagemaker_session = sagemaker.Session()\n",
    "\n",
    "# Describe the training job\n",
    "training_job_name = 'sk-network'  # Replace with your job name\n",
    "job_description = sagemaker_session.sagemaker_client.describe_training_job(TrainingJobName=training_job_name)\n",
    "\n",
    "print(job_description)"
   ]
  },
  {
   "cell_type": "code",
   "execution_count": null,
   "id": "3586291f-2ba7-4034-afca-db9953521a1a",
   "metadata": {},
   "outputs": [],
   "source": [
    "# Deploy the model\n",
    "# predictor = sklearn_estimator.deploy(initial_instance_count=1, instance_type='ml.t3.2xlarge')"
   ]
  },
  {
   "cell_type": "code",
   "execution_count": null,
   "id": "48c4b522-6a5e-4ddf-81c1-9b66e56c533c",
   "metadata": {},
   "outputs": [],
   "source": [
    "# Make predictions (replace with your test data)\n",
    "# result = predictor.predict('sample test data')\n",
    "# print(result)"
   ]
  },
  {
   "cell_type": "code",
   "execution_count": null,
   "id": "7dd2f4f8-a86c-4c6f-a781-26f2bf3745d1",
   "metadata": {},
   "outputs": [],
   "source": [
    "# sagemaker_client = boto3.client('sagemaker')\n",
    "# training_jobs = sagemaker_client.list_training_jobs(MaxResults=5)  # Adjust as needed\n",
    "\n",
    "# for job in training_jobs['TrainingJobSummaries']:\n",
    "#     print(f\"Training Job Name: {job['TrainingJobName']}\")\n",
    "#     print(f\"Training Job Status: {job['TrainingJobStatus']}\")"
   ]
  },
  {
   "cell_type": "code",
   "execution_count": null,
   "id": "4181323b-0a1a-4dd4-adfe-9f1dcf414a53",
   "metadata": {},
   "outputs": [],
   "source": [
    "# import boto3\n",
    "# import time\n",
    "\n",
    "# sagemaker_client = boto3.client('sagemaker')\n",
    "\n",
    "# # Replace 'your-training-job-name' with your actual job name\n",
    "# job_name = 'sk-network-2024-08-20-09-00-47-671'\n",
    "\n",
    "# response = sagemaker_client.describe_training_job(TrainingJobName=job_name)\n",
    "# job_status = response['TrainingJobStatus']\n",
    "# start_time = response['TrainingStartTime']\n",
    "# end_time = response.get('TrainingEndTime', None)\n",
    "\n",
    "# if end_time:\n",
    "#     elapsed_time = end_time - start_time\n",
    "# else:\n",
    "#     elapsed_time = time.time() - start_time.timestamp()\n",
    "\n",
    "# print(f\"Training Job Status: {job_status}\")\n",
    "# print(f\"Start Time: {start_time}\")\n",
    "# if end_time:\n",
    "#     print(f\"End Time: {end_time}\")\n",
    "# print(f\"Elapsed Time (in seconds): {elapsed_time}\")\n"
   ]
  },
  {
   "cell_type": "code",
   "execution_count": null,
   "id": "681ca3e3-7af7-447d-959d-eb376c3eac7a",
   "metadata": {},
   "outputs": [],
   "source": [
    "# job_name = sklearn_estimator.latest_training_job.name  # Get the actual job name\n",
    "\n",
    "# # Monitor the training job\n",
    "# response = sagemaker_client.describe_training_job(TrainingJobName=job_name)\n",
    "# job_status = response['TrainingJobStatus']\n",
    "# start_time = response['TrainingStartTime']\n",
    "# end_time = response.get('TrainingEndTime', None)\n",
    "\n",
    "# if end_time:\n",
    "#     elapsed_time = end_time - start_time\n",
    "# else:\n",
    "#     elapsed_time = time.time() - start_time.timestamp()\n",
    "\n",
    "# print(f\"Training Job Name: {job_name}\")\n",
    "# print(f\"Training Job Status: {job_status}\")\n",
    "# print(f\"Start Time: {start_time}\")\n",
    "# if end_time:\n",
    "#     print(f\"End Time: {end_time}\")\n",
    "# print(f\"Elapsed Time (in seconds): {elapsed_time}\")"
   ]
  },
  {
   "cell_type": "code",
   "execution_count": null,
   "id": "07c5ed71-4e7f-4628-bd49-c17b361d22b2",
   "metadata": {},
   "outputs": [],
   "source": []
  }
 ],
 "metadata": {
  "kernelspec": {
   "display_name": "Python 3 (ipykernel)",
   "language": "python",
   "name": "python3"
  },
  "language_info": {
   "codemirror_mode": {
    "name": "ipython",
    "version": 3
   },
   "file_extension": ".py",
   "mimetype": "text/x-python",
   "name": "python",
   "nbconvert_exporter": "python",
   "pygments_lexer": "ipython3",
   "version": "3.12.5"
  }
 },
 "nbformat": 4,
 "nbformat_minor": 5
}
